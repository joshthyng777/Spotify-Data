{
 "cells": [
  {
   "cell_type": "code",
   "execution_count": 2,
   "metadata": {},
   "outputs": [],
   "source": [
    "import pandas as pd\n",
    "import numpy as np\n",
    "import matplotlib.pyplot as plt\n",
    "import seaborn as sns"
   ]
  },
  {
   "cell_type": "code",
   "execution_count": 3,
   "metadata": {},
   "outputs": [
    {
     "data": {
      "text/html": [
       "<div>\n",
       "<style scoped>\n",
       "    .dataframe tbody tr th:only-of-type {\n",
       "        vertical-align: middle;\n",
       "    }\n",
       "\n",
       "    .dataframe tbody tr th {\n",
       "        vertical-align: top;\n",
       "    }\n",
       "\n",
       "    .dataframe thead th {\n",
       "        text-align: right;\n",
       "    }\n",
       "</style>\n",
       "<table border=\"1\" class=\"dataframe\">\n",
       "  <thead>\n",
       "    <tr style=\"text-align: right;\">\n",
       "      <th></th>\n",
       "      <th>id</th>\n",
       "      <th>name</th>\n",
       "      <th>duration</th>\n",
       "      <th>energy</th>\n",
       "      <th>key</th>\n",
       "      <th>loudness</th>\n",
       "      <th>mode</th>\n",
       "      <th>speechiness</th>\n",
       "      <th>acousticness</th>\n",
       "      <th>instrumentalness</th>\n",
       "      <th>liveness</th>\n",
       "      <th>valence</th>\n",
       "      <th>tempo</th>\n",
       "      <th>danceability</th>\n",
       "    </tr>\n",
       "  </thead>\n",
       "  <tbody>\n",
       "    <tr>\n",
       "      <th>0</th>\n",
       "      <td>4ZtFanR9U6ndgddUvNcjcG</td>\n",
       "      <td>Good 4 U Olivia Rodrigo</td>\n",
       "      <td>2.97</td>\n",
       "      <td>0.664</td>\n",
       "      <td>9</td>\n",
       "      <td>-5.044</td>\n",
       "      <td>1</td>\n",
       "      <td>0.1540</td>\n",
       "      <td>0.33500</td>\n",
       "      <td>0.000</td>\n",
       "      <td>0.0849</td>\n",
       "      <td>0.688</td>\n",
       "      <td>166.928</td>\n",
       "      <td>0.563</td>\n",
       "    </tr>\n",
       "    <tr>\n",
       "      <th>1</th>\n",
       "      <td>5fxyZf6m2xHeSrOzUfcJrq</td>\n",
       "      <td>Stay The Kid LAROI &amp; Justin Bieber</td>\n",
       "      <td>2.30</td>\n",
       "      <td>0.506</td>\n",
       "      <td>8</td>\n",
       "      <td>-11.275</td>\n",
       "      <td>1</td>\n",
       "      <td>0.0589</td>\n",
       "      <td>0.37900</td>\n",
       "      <td>0.868</td>\n",
       "      <td>0.1100</td>\n",
       "      <td>0.454</td>\n",
       "      <td>170.054</td>\n",
       "      <td>0.564</td>\n",
       "    </tr>\n",
       "    <tr>\n",
       "      <th>2</th>\n",
       "      <td>5nujrmhLynf4yMoMtj8AQF</td>\n",
       "      <td>Levitating Dua Lipa feat. DaBaby</td>\n",
       "      <td>3.38</td>\n",
       "      <td>0.825</td>\n",
       "      <td>6</td>\n",
       "      <td>-3.787</td>\n",
       "      <td>0</td>\n",
       "      <td>0.0601</td>\n",
       "      <td>0.00883</td>\n",
       "      <td>0.000</td>\n",
       "      <td>0.0674</td>\n",
       "      <td>0.915</td>\n",
       "      <td>102.977</td>\n",
       "      <td>0.702</td>\n",
       "    </tr>\n",
       "    <tr>\n",
       "      <th>3</th>\n",
       "      <td>4iJyoBOLtHqaGxP12qzhQI</td>\n",
       "      <td>Peaches Justin Bieber feat. Daniel Caesar &amp; Gi...</td>\n",
       "      <td>3.30</td>\n",
       "      <td>0.696</td>\n",
       "      <td>0</td>\n",
       "      <td>-6.181</td>\n",
       "      <td>1</td>\n",
       "      <td>0.1190</td>\n",
       "      <td>0.32100</td>\n",
       "      <td>0.000</td>\n",
       "      <td>0.4200</td>\n",
       "      <td>0.464</td>\n",
       "      <td>90.030</td>\n",
       "      <td>0.677</td>\n",
       "    </tr>\n",
       "    <tr>\n",
       "      <th>4</th>\n",
       "      <td>1SC5rEoYDGUK4NfG82494W</td>\n",
       "      <td>Montero (Call Me By Your Name) Lil Nas X</td>\n",
       "      <td>2.30</td>\n",
       "      <td>0.503</td>\n",
       "      <td>8</td>\n",
       "      <td>-6.725</td>\n",
       "      <td>0</td>\n",
       "      <td>0.2200</td>\n",
       "      <td>0.29300</td>\n",
       "      <td>0.000</td>\n",
       "      <td>0.4050</td>\n",
       "      <td>0.710</td>\n",
       "      <td>178.781</td>\n",
       "      <td>0.593</td>\n",
       "    </tr>\n",
       "  </tbody>\n",
       "</table>\n",
       "</div>"
      ],
      "text/plain": [
       "                       id                                               name  \\\n",
       "0  4ZtFanR9U6ndgddUvNcjcG                            Good 4 U Olivia Rodrigo   \n",
       "1  5fxyZf6m2xHeSrOzUfcJrq                 Stay The Kid LAROI & Justin Bieber   \n",
       "2  5nujrmhLynf4yMoMtj8AQF                   Levitating Dua Lipa feat. DaBaby   \n",
       "3  4iJyoBOLtHqaGxP12qzhQI  Peaches Justin Bieber feat. Daniel Caesar & Gi...   \n",
       "4  1SC5rEoYDGUK4NfG82494W           Montero (Call Me By Your Name) Lil Nas X   \n",
       "\n",
       "   duration  energy  key  loudness  mode  speechiness  acousticness  \\\n",
       "0      2.97   0.664    9    -5.044     1       0.1540       0.33500   \n",
       "1      2.30   0.506    8   -11.275     1       0.0589       0.37900   \n",
       "2      3.38   0.825    6    -3.787     0       0.0601       0.00883   \n",
       "3      3.30   0.696    0    -6.181     1       0.1190       0.32100   \n",
       "4      2.30   0.503    8    -6.725     0       0.2200       0.29300   \n",
       "\n",
       "   instrumentalness  liveness  valence    tempo  danceability  \n",
       "0             0.000    0.0849    0.688  166.928         0.563  \n",
       "1             0.868    0.1100    0.454  170.054         0.564  \n",
       "2             0.000    0.0674    0.915  102.977         0.702  \n",
       "3             0.000    0.4200    0.464   90.030         0.677  \n",
       "4             0.000    0.4050    0.710  178.781         0.593  "
      ]
     },
     "execution_count": 3,
     "metadata": {},
     "output_type": "execute_result"
    }
   ],
   "source": [
    "df = pd.read_csv('top 100 streamed songs.csv')\n",
    "df.head()"
   ]
  },
  {
   "cell_type": "code",
   "execution_count": 4,
   "metadata": {},
   "outputs": [
    {
     "name": "stdout",
     "output_type": "stream",
     "text": [
      "<class 'pandas.core.frame.DataFrame'>\n",
      "RangeIndex: 100 entries, 0 to 99\n",
      "Data columns (total 14 columns):\n",
      " #   Column            Non-Null Count  Dtype  \n",
      "---  ------            --------------  -----  \n",
      " 0   id                100 non-null    object \n",
      " 1   name              100 non-null    object \n",
      " 2   duration          100 non-null    float64\n",
      " 3   energy            100 non-null    float64\n",
      " 4   key               100 non-null    int64  \n",
      " 5   loudness          100 non-null    float64\n",
      " 6   mode              100 non-null    int64  \n",
      " 7   speechiness       100 non-null    float64\n",
      " 8   acousticness      100 non-null    float64\n",
      " 9   instrumentalness  100 non-null    float64\n",
      " 10  liveness          100 non-null    float64\n",
      " 11  valence           100 non-null    float64\n",
      " 12  tempo             100 non-null    float64\n",
      " 13  danceability      100 non-null    float64\n",
      "dtypes: float64(10), int64(2), object(2)\n",
      "memory usage: 11.1+ KB\n"
     ]
    }
   ],
   "source": [
    "df.info()"
   ]
  },
  {
   "cell_type": "code",
   "execution_count": 5,
   "metadata": {},
   "outputs": [],
   "source": [
    "lowerHalf = df[df.energy < 0.50]\n",
    "upperHalf = df[df.energy > 0.50]"
   ]
  },
  {
   "cell_type": "code",
   "execution_count": 7,
   "metadata": {},
   "outputs": [
    {
     "data": {
      "text/plain": [
       "<AxesSubplot:ylabel='duration'>"
      ]
     },
     "execution_count": 7,
     "metadata": {},
     "output_type": "execute_result"
    },
    {
     "data": {
      "image/png": "[encoded data removed]",
      "text/plain": [
       "<Figure size 432x288 with 1 Axes>"
      ]
     },
     "metadata": {
      "needs_background": "light"
     },
     "output_type": "display_data"
    }
   ],
   "source": [
    "sns.scatterplot(df['duration'])"
   ]
  },
  {
   "cell_type": "code",
   "execution_count": null,
   "metadata": {},
   "outputs": [
    {
     "ename": "NameError",
     "evalue": "name 'sns' is not defined",
     "output_type": "error",
     "traceback": [
      "\u001b[1;31m---------------------------------------------------------------------------\u001b[0m",
      "\u001b[1;31mNameError\u001b[0m                                 Traceback (most recent call last)",
      "\u001b[1;32mc:\\Users\\Joe's PC\\Desktop\\Spotify Data\\spotData.ipynb Cell 6\u001b[0m in \u001b[0;36m<cell line: 1>\u001b[1;34m()\u001b[0m\n\u001b[1;32m----> <a href='vscode-notebook-cell:/c%3A/Users/Joe%27s%20PC/Desktop/Spotify%20Data/spotData.ipynb#W5sZmlsZQ%3D%3D?line=0'>1</a>\u001b[0m sns\u001b[39m.\u001b[39mscatterplot(upperHalf)\n\u001b[0;32m      <a href='vscode-notebook-cell:/c%3A/Users/Joe%27s%20PC/Desktop/Spotify%20Data/spotData.ipynb#W5sZmlsZQ%3D%3D?line=1'>2</a>\u001b[0m sns\u001b[39m.\u001b[39mp\n",
      "\u001b[1;31mNameError\u001b[0m: name 'sns' is not defined"
     ]
    }
   ],
   "source": [
    "\n",
    "\n"
   ]
  }
 ],
 "metadata": {
  "kernelspec": {
   "display_name": "Python 3",
   "language": "python",
   "name": "python3"
  },
  "language_info": {
   "codemirror_mode": {
    "name": "ipython",
    "version": 3
   },
   "file_extension": ".py",
   "mimetype": "text/x-python",
   "name": "python",
   "nbconvert_exporter": "python",
   "pygments_lexer": "ipython3",
   "version": "3.9.13"
  },
  "orig_nbformat": 4,
  "vscode": {
   "interpreter": {
    "hash": "bc3545c8de7f5ef227955807076d1707d1a45fc91b29ad1b38eca8676a4a2215"
   }
  }
 },
 "nbformat": 4,
 "nbformat_minor": 2
}
